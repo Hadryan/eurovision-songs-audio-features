{
 "cells": [
  {
   "cell_type": "markdown",
   "metadata": {},
   "source": [
    "# Scraping the Eurovision Song Contest data from 1956 until 2019"
   ]
  },
  {
   "cell_type": "code",
   "execution_count": 2,
   "metadata": {},
   "outputs": [],
   "source": [
    "import numpy as np\n",
    "import pandas as pd\n",
    "import requests\n",
    "from bs4 import BeautifulSoup\n",
    "from pprint import pprint\n",
    "import re\n",
    "%matplotlib inline"
   ]
  },
  {
   "cell_type": "markdown",
   "metadata": {},
   "source": [
    "### DataFrame of Eurovision Song Contest Winners per Year (We did not use this list)"
   ]
  },
  {
   "cell_type": "code",
   "execution_count": 3,
   "metadata": {},
   "outputs": [
    {
     "data": {
      "text/html": [
       "<div>\n",
       "<style scoped>\n",
       "    .dataframe tbody tr th:only-of-type {\n",
       "        vertical-align: middle;\n",
       "    }\n",
       "\n",
       "    .dataframe tbody tr th {\n",
       "        vertical-align: top;\n",
       "    }\n",
       "\n",
       "    .dataframe thead th {\n",
       "        text-align: right;\n",
       "    }\n",
       "</style>\n",
       "<table border=\"1\" class=\"dataframe\">\n",
       "  <thead>\n",
       "    <tr style=\"text-align: right;\">\n",
       "      <th></th>\n",
       "      <th>Year</th>\n",
       "      <th>Host City</th>\n",
       "      <th>Date</th>\n",
       "      <th>Winner</th>\n",
       "      <th>Song</th>\n",
       "      <th>Performer(s)</th>\n",
       "      <th>Songwriter(s)</th>\n",
       "      <th>Language</th>\n",
       "      <th>Points</th>\n",
       "    </tr>\n",
       "  </thead>\n",
       "  <tbody>\n",
       "    <tr>\n",
       "      <th>0</th>\n",
       "      <td>1956</td>\n",
       "      <td>Lugano</td>\n",
       "      <td>24 May</td>\n",
       "      <td>Switzerland</td>\n",
       "      <td>\"Refrain\"</td>\n",
       "      <td>Lys Assia</td>\n",
       "      <td>Géo VoumardÉmile Gardaz</td>\n",
       "      <td>French</td>\n",
       "      <td>Not announced</td>\n",
       "    </tr>\n",
       "    <tr>\n",
       "      <th>1</th>\n",
       "      <td>1957</td>\n",
       "      <td>Frankfurt</td>\n",
       "      <td>3 March</td>\n",
       "      <td>Netherlands</td>\n",
       "      <td>\"Net als toen\"</td>\n",
       "      <td>Corry Brokken</td>\n",
       "      <td>Guus JansenWilly van Hemert</td>\n",
       "      <td>Dutch</td>\n",
       "      <td>31</td>\n",
       "    </tr>\n",
       "    <tr>\n",
       "      <th>2</th>\n",
       "      <td>1958</td>\n",
       "      <td>Hilversum</td>\n",
       "      <td>12 March</td>\n",
       "      <td>France</td>\n",
       "      <td>\"Dors, mon amour\"</td>\n",
       "      <td>André Claveau</td>\n",
       "      <td>Hubert GiraudPierre Delanoë</td>\n",
       "      <td>French</td>\n",
       "      <td>27</td>\n",
       "    </tr>\n",
       "    <tr>\n",
       "      <th>3</th>\n",
       "      <td>1959</td>\n",
       "      <td>Cannes</td>\n",
       "      <td>11 March</td>\n",
       "      <td>Netherlands</td>\n",
       "      <td>\"Een beetje\"</td>\n",
       "      <td>Teddy Scholten</td>\n",
       "      <td>Dick SchalliesWilly van Hemert</td>\n",
       "      <td>Dutch</td>\n",
       "      <td>21</td>\n",
       "    </tr>\n",
       "    <tr>\n",
       "      <th>4</th>\n",
       "      <td>1960</td>\n",
       "      <td>London</td>\n",
       "      <td>29 March</td>\n",
       "      <td>France</td>\n",
       "      <td>\"Tom Pillibi\"</td>\n",
       "      <td>Jacqueline Boyer</td>\n",
       "      <td>André PoppPierre Cour</td>\n",
       "      <td>French</td>\n",
       "      <td>32</td>\n",
       "    </tr>\n",
       "  </tbody>\n",
       "</table>\n",
       "</div>"
      ],
      "text/plain": [
       "   Year   Host City      Date         Winner               Song  \\\n",
       "0  1956      Lugano    24 May    Switzerland          \"Refrain\"   \n",
       "1  1957   Frankfurt   3 March    Netherlands     \"Net als toen\"   \n",
       "2  1958   Hilversum  12 March         France  \"Dors, mon amour\"   \n",
       "3  1959      Cannes  11 March    Netherlands       \"Een beetje\"   \n",
       "4  1960      London  29 March         France      \"Tom Pillibi\"   \n",
       "\n",
       "       Performer(s)                   Songwriter(s) Language         Points  \n",
       "0         Lys Assia         Géo VoumardÉmile Gardaz   French  Not announced  \n",
       "1     Corry Brokken     Guus JansenWilly van Hemert    Dutch             31  \n",
       "2     André Claveau     Hubert GiraudPierre Delanoë   French             27  \n",
       "3    Teddy Scholten  Dick SchalliesWilly van Hemert    Dutch             21  \n",
       "4  Jacqueline Boyer           André PoppPierre Cour   French             32  "
      ]
     },
     "execution_count": 3,
     "metadata": {},
     "output_type": "execute_result"
    }
   ],
   "source": [
    "url = 'https://en.wikipedia.org/wiki/List_of_Eurovision_Song_Contest_winners'\n",
    "res = requests.get(url)\n",
    "#res\n",
    "soup = BeautifulSoup(res.content, 'html.parser')\n",
    "#soup\n",
    "table = soup.body.find_all('table', {'class':'wikitable sortable'})[0]\n",
    "#table\n",
    "rows = table.find_all('tr')\n",
    "#rows\n",
    "rows = [row.text.strip().split('\\n\\n') for row in rows]\n",
    "#rows\n",
    "colnames = rows[0]\n",
    "data = rows[1:]\n",
    "df = pd.DataFrame(data, columns=colnames)\n",
    "df.head(10)\n",
    "df.to_csv('winners_per_year.csv', index=False)\n",
    "check = pd.read_csv('winners_per_year.csv')\n",
    "check.head()"
   ]
  },
  {
   "cell_type": "markdown",
   "metadata": {},
   "source": [
    "### DataFrame of Eurovision Song Contest per Year (I cannot scrape this table)"
   ]
  },
  {
   "cell_type": "code",
   "execution_count": 4,
   "metadata": {},
   "outputs": [
    {
     "data": {
      "text/plain": [
       "[]"
      ]
     },
     "execution_count": 4,
     "metadata": {},
     "output_type": "execute_result"
    }
   ],
   "source": [
    "year = 2019\n",
    "url = f'https://eurovisionworld.com/eurovision/{year}'\n",
    "res = requests.get(url)\n",
    "res\n",
    "soup = BeautifulSoup(res.content, 'html.parser')\n",
    "soup\n",
    "\n",
    "#try1\n",
    "table = soup.body.main\n",
    "table\n",
    "\n",
    "#try2\n",
    "table = soup.body.main.find('div', {'id':'voting_table'})\n",
    "table\n",
    "\n",
    "#try3\n",
    "table = soup.body.main.find_all('table', {'class':'voting_table'})\n",
    "table\n",
    "\n",
    "#CANNOT SCRAPE THE TABLE"
   ]
  },
  {
   "cell_type": "markdown",
   "metadata": {},
   "source": [
    "### Eurovision Song Contest Website (Did not work for all the different years)"
   ]
  },
  {
   "cell_type": "code",
   "execution_count": 4,
   "metadata": {},
   "outputs": [
    {
     "data": {
      "text/html": [
       "<div>\n",
       "<style scoped>\n",
       "    .dataframe tbody tr th:only-of-type {\n",
       "        vertical-align: middle;\n",
       "    }\n",
       "\n",
       "    .dataframe tbody tr th {\n",
       "        vertical-align: top;\n",
       "    }\n",
       "\n",
       "    .dataframe thead th {\n",
       "        text-align: right;\n",
       "    }\n",
       "</style>\n",
       "<table border=\"1\" class=\"dataframe\">\n",
       "  <thead>\n",
       "    <tr style=\"text-align: right;\">\n",
       "      <th></th>\n",
       "      <th>R/O</th>\n",
       "      <th>Country</th>\n",
       "      <th>Contestant</th>\n",
       "      <th>Song</th>\n",
       "      <th>Points</th>\n",
       "      <th>Place</th>\n",
       "    </tr>\n",
       "  </thead>\n",
       "  <tbody>\n",
       "    <tr>\n",
       "      <th>0</th>\n",
       "      <td>1</td>\n",
       "      <td>Israel</td>\n",
       "      <td>IMRI</td>\n",
       "      <td>I Feel Alive</td>\n",
       "      <td></td>\n",
       "      <td>None</td>\n",
       "    </tr>\n",
       "    <tr>\n",
       "      <th>1</th>\n",
       "      <td>2</td>\n",
       "      <td>Poland</td>\n",
       "      <td>Kasia Moś</td>\n",
       "      <td>Flashlight</td>\n",
       "      <td></td>\n",
       "      <td>None</td>\n",
       "    </tr>\n",
       "    <tr>\n",
       "      <th>2</th>\n",
       "      <td>3</td>\n",
       "      <td>Belarus</td>\n",
       "      <td>Naviband</td>\n",
       "      <td>Story of My Life</td>\n",
       "      <td></td>\n",
       "      <td>None</td>\n",
       "    </tr>\n",
       "    <tr>\n",
       "      <th>3</th>\n",
       "      <td>4</td>\n",
       "      <td>Austria</td>\n",
       "      <td>Nathan Trent</td>\n",
       "      <td>Running On Air</td>\n",
       "      <td></td>\n",
       "      <td>None</td>\n",
       "    </tr>\n",
       "    <tr>\n",
       "      <th>4</th>\n",
       "      <td>5</td>\n",
       "      <td>Armenia</td>\n",
       "      <td>Artsvik</td>\n",
       "      <td>Fly With Me</td>\n",
       "      <td></td>\n",
       "      <td>None</td>\n",
       "    </tr>\n",
       "  </tbody>\n",
       "</table>\n",
       "</div>"
      ],
      "text/plain": [
       "  R/O  Country    Contestant              Song Points Place\n",
       "0   1   Israel          IMRI      I Feel Alive         None\n",
       "1   2   Poland     Kasia Moś        Flashlight         None\n",
       "2   3  Belarus      Naviband  Story of My Life         None\n",
       "3   4  Austria  Nathan Trent    Running On Air         None\n",
       "4   5  Armenia       Artsvik       Fly With Me         None"
      ]
     },
     "execution_count": 4,
     "metadata": {},
     "output_type": "execute_result"
    }
   ],
   "source": [
    "#try1\n",
    "url_end = ['tel-aviv-2019/grand-final', 'lisbon-2018/grand-final', 'kyiv-2017/grand-final', '', 'hilversum-1958/final', 'frankfurt-1957/final', 'lugano-1956/final']\n",
    "url = f'https://eurovision.tv/event/{url_end[2]}'\n",
    "res = requests.get(url)\n",
    "#res\n",
    "soup = BeautifulSoup(res.content, 'html.parser')\n",
    "#soup\n",
    "table = soup.body.main.find_all('table', {'class': 'event-table'})[0]\n",
    "#table\n",
    "rows = table.find_all('tr')\n",
    "rows = [row.text.strip().split('\\n') for row in rows]\n",
    "rows[1:]\n",
    "data = rows[1:]\n",
    "df = pd.DataFrame(data)\n",
    "pd.options.display.max_columns = None\n",
    "df.head()\n",
    "df = df[[0,7,15,21,27,30]].head(10)\n",
    "df = df.rename(columns={0:'R/O', 7:'Country', 15:'Contestant', 21:'Song', 27:'Points', 30:'Place'})\n",
    "df.head()\n",
    "# DOES NOT WORK WITH ALL THE URLS"
   ]
  },
  {
   "cell_type": "markdown",
   "metadata": {},
   "source": [
    "## Eurovision Song Contest Website (Try2)"
   ]
  },
  {
   "cell_type": "code",
   "execution_count": 5,
   "metadata": {},
   "outputs": [
    {
     "data": {
      "text/plain": [
       "<tr class=\"border-b border-grey\">\n",
       "<td>\n",
       "2\n",
       "</td>\n",
       "<td>\n",
       "<div class=\"flex items-center\">\n",
       "<a class=\"text-blue-dark hover:text-blue-darkest font-bold no-underline flex items-center\" href=\"https://eurovision.tv/country/albania\">\n",
       "<div class=\"flex-no-shrink mr-10\">\n",
       "<img alt=\"🇦🇱\" class=\"emojione\" src=\"https://cdn.jsdelivr.net/emojione/assets/4.5/png/64/1f1e6-1f1f1.png\" title=\":flag_al:\"/> </div>\n",
       "<span>Albania</span>\n",
       "</a>\n",
       "</div>\n",
       "</td>\n",
       "<td>\n",
       "<div class=\"flex items-center\">\n",
       "<img class=\"mr-10 rounded-full h-8 w-8\" src=\"https://static.eurovision.tv/hb-cgi/images/8d9181f7-788b-4844-a6e6-906e0443f747/avatar_small.jpg\"/>\n",
       "<a class=\"font-bold text-blue-dark hover:text-blue-darkest no-underline\" href=\"https://eurovision.tv/participant/jonida-maliqi\">\n",
       "Jonida Maliqi\n",
       "</a>\n",
       "</div>\n",
       "</td>\n",
       "<td>\n",
       "<div class=\"flex items-center\">\n",
       "Ktheju tokës\n",
       "<a class=\"flex items-center\" href=\"https://youtube.com/watch?v=-NAbYUoxIfg\">\n",
       "<svg class=\"icon ml-10\" height=\"15\" viewbox=\"0 0 20 15\" width=\"20\" xmlns=\"http://www.w3.org/2000/svg\"><path d=\"M7.935 9.625V4.007l5.403 2.819-5.403 2.8zM19.8 3.034s-.196-1.378-.795-1.985c-.76-.797-1.613-.8-2.004-.847C14.202 0 10.004 0 10.004 0h-.008S5.797 0 2.999.202C2.607.25 1.756.252.994 1.05.395 1.656.2 3.034.2 3.034S0 4.652 0 6.27v1.517c0 1.618.2 3.236.2 3.236s.195 1.378.794 1.985c.762.796 1.761.771 2.206.854 1.6.154 6.8.202 6.8.202s4.203-.007 7.001-.21c.39-.046 1.243-.05 2.004-.846.6-.607.795-1.985.795-1.985s.2-1.618.2-3.236V6.27c0-1.618-.2-3.236-.2-3.236z\" fill=\"#FF1441\" fill-rule=\"evenodd\"></path></svg> </a>\n",
       "</div>\n",
       "</td>\n",
       "<td class=\"text-right\">\n",
       "90\n",
       "</td>\n",
       "<td class=\"text-right\">\n",
       "17th\n",
       "</td>\n",
       "</tr>"
      ]
     },
     "execution_count": 5,
     "metadata": {},
     "output_type": "execute_result"
    }
   ],
   "source": [
    "#There are different url ends for the different years.\n",
    "#There is a pattern, however, the end is '/grand-final' from 2004, before 2004 it is '\\final' \n",
    "url_end = ['tel-aviv-2019/grand-final', 'lisbon-2018/grand-final', 'kyiv-2017/grand-final', 'hilversum-1958/final', 'frankfurt-1957/final', 'lugano-1956/final']\n",
    "url = f'https://eurovision.tv/event/{url_end[0]}'\n",
    "res = requests.get(url)\n",
    "soup = BeautifulSoup(res.content, 'html.parser')\n",
    "table = soup.body.main.find_all('table', {'class': 'event-table'})[0]\n",
    "rows = table.find_all('tr')\n",
    "#rows = [row.text.strip().split('\\n') for row in rows]\n",
    "sample_row = rows[2]\n",
    "sample_row"
   ]
  },
  {
   "cell_type": "markdown",
   "metadata": {},
   "source": [
    "### Functions for scraping data of the columns of the Scorecard table"
   ]
  },
  {
   "cell_type": "code",
   "execution_count": 12,
   "metadata": {},
   "outputs": [
    {
     "data": {
      "text/plain": [
       "'2'"
      ]
     },
     "execution_count": 12,
     "metadata": {},
     "output_type": "execute_result"
    }
   ],
   "source": [
    "# get R/O\n",
    "#sample_row.find('td').text.strip()\n",
    "\n",
    "def get_ro(row):\n",
    "    return row.find('td').text.strip()\n",
    "    \n",
    "get_ro(sample_row)"
   ]
  },
  {
   "cell_type": "code",
   "execution_count": 13,
   "metadata": {},
   "outputs": [
    {
     "data": {
      "text/plain": [
       "'Albania'"
      ]
     },
     "execution_count": 13,
     "metadata": {},
     "output_type": "execute_result"
    }
   ],
   "source": [
    "# get country\n",
    "#sample_row.span.text\n",
    "\n",
    "def get_country(row):\n",
    "    return row.span.text\n",
    "\n",
    "get_country(sample_row)"
   ]
  },
  {
   "cell_type": "code",
   "execution_count": 14,
   "metadata": {},
   "outputs": [
    {
     "data": {
      "text/plain": [
       "'Jonida Maliqi'"
      ]
     },
     "execution_count": 14,
     "metadata": {},
     "output_type": "execute_result"
    }
   ],
   "source": [
    "# get contestant\n",
    "#sample_row.find_all('a')[1].text.strip()\n",
    "\n",
    "def get_contestant(row):\n",
    "    return row.find_all('a')[1].text.strip()\n",
    "\n",
    "get_contestant(sample_row)"
   ]
  },
  {
   "cell_type": "code",
   "execution_count": 15,
   "metadata": {},
   "outputs": [
    {
     "data": {
      "text/plain": [
       "'Ktheju tokës'"
      ]
     },
     "execution_count": 15,
     "metadata": {},
     "output_type": "execute_result"
    }
   ],
   "source": [
    "# get song\n",
    "#sample_row.find_all('div')[3].text.strip()\n",
    "\n",
    "def get_song(row):\n",
    "    return row.find_all('div')[3].text.strip()\n",
    "\n",
    "get_song(sample_row)"
   ]
  },
  {
   "cell_type": "code",
   "execution_count": 16,
   "metadata": {},
   "outputs": [
    {
     "data": {
      "text/plain": [
       "'90'"
      ]
     },
     "execution_count": 16,
     "metadata": {},
     "output_type": "execute_result"
    }
   ],
   "source": [
    "# get points\n",
    "#sample_row.find_all('td', class_='text-right')[0].text.strip()\n",
    "\n",
    "def get_points(row):\n",
    "    return row.find_all('td', class_='text-right')[0].text.strip()\n",
    "\n",
    "get_points(sample_row)"
   ]
  },
  {
   "cell_type": "code",
   "execution_count": 17,
   "metadata": {},
   "outputs": [
    {
     "data": {
      "text/plain": [
       "'17th'"
      ]
     },
     "execution_count": 17,
     "metadata": {},
     "output_type": "execute_result"
    }
   ],
   "source": [
    "# get place\n",
    "#sample_row.find_all('td', class_='text-right')[1].text.strip()\n",
    "\n",
    "def get_place(row):\n",
    "    return row.find_all('td', class_='text-right')[1].text.strip()\n",
    "    \n",
    "get_place(sample_row)"
   ]
  },
  {
   "cell_type": "markdown",
   "metadata": {},
   "source": [
    "### Functions for scraping the year and the host city from the urls"
   ]
  },
  {
   "cell_type": "code",
   "execution_count": 18,
   "metadata": {},
   "outputs": [
    {
     "data": {
      "text/plain": [
       "2019"
      ]
     },
     "execution_count": 18,
     "metadata": {},
     "output_type": "execute_result"
    }
   ],
   "source": [
    "# get year\n",
    "#url\n",
    "\n",
    "def get_year(url):\n",
    "    year_pattern = r'(\\d{4})'\n",
    "    return int(re.findall(year_pattern, url)[0])\n",
    "\n",
    "get_year(url)"
   ]
  },
  {
   "cell_type": "code",
   "execution_count": 19,
   "metadata": {},
   "outputs": [
    {
     "data": {
      "text/plain": [
       "'Tel-Aviv'"
      ]
     },
     "execution_count": 19,
     "metadata": {},
     "output_type": "execute_result"
    }
   ],
   "source": [
    "#get host city\n",
    "#url\n",
    "\n",
    "def get_host_city(url):\n",
    "    #host_city_pattern = r'(\\w+)-'\n",
    "    host_city_pattern = r'([a-z-]*[a-z]+)-'\n",
    "    host_city = re.findall(host_city_pattern, url)[0]\n",
    "    host_city = host_city.title()\n",
    "    return host_city\n",
    "    \n",
    "get_host_city(url)"
   ]
  },
  {
   "cell_type": "markdown",
   "metadata": {},
   "source": [
    "### Put the scraping functions together and create a dictionary"
   ]
  },
  {
   "cell_type": "code",
   "execution_count": 20,
   "metadata": {},
   "outputs": [
    {
     "data": {
      "text/plain": [
       "{'R/O': '2',\n",
       " 'Year': 2019,\n",
       " 'Host_City': 'Tel-Aviv',\n",
       " 'Country': 'Albania',\n",
       " 'Contestant': 'Jonida Maliqi',\n",
       " 'Song': 'Ktheju tokës',\n",
       " 'Points': '90',\n",
       " 'Place': '17th'}"
      ]
     },
     "execution_count": 20,
     "metadata": {},
     "output_type": "execute_result"
    }
   ],
   "source": [
    "def create_row(row, url):\n",
    "    return {'R/O': get_ro(row),\n",
    "            'Year': get_year(url),\n",
    "            'Host_City': get_host_city(url),\n",
    "            'Country': get_country(row),\n",
    "            'Contestant': get_contestant(row),\n",
    "            'Song': get_song(row),\n",
    "            'Points': get_points(row),\n",
    "            'Place': get_place(row)}\n",
    "\n",
    "create_row(sample_row, url)"
   ]
  },
  {
   "cell_type": "markdown",
   "metadata": {},
   "source": [
    "### Create a sample DataFrame"
   ]
  },
  {
   "cell_type": "code",
   "execution_count": 21,
   "metadata": {},
   "outputs": [],
   "source": [
    "data = [create_row(row, url) for row in rows[1:]] # don't want to get the first row, that is the header"
   ]
  },
  {
   "cell_type": "code",
   "execution_count": 22,
   "metadata": {},
   "outputs": [
    {
     "data": {
      "text/html": [
       "<div>\n",
       "<style scoped>\n",
       "    .dataframe tbody tr th:only-of-type {\n",
       "        vertical-align: middle;\n",
       "    }\n",
       "\n",
       "    .dataframe tbody tr th {\n",
       "        vertical-align: top;\n",
       "    }\n",
       "\n",
       "    .dataframe thead th {\n",
       "        text-align: right;\n",
       "    }\n",
       "</style>\n",
       "<table border=\"1\" class=\"dataframe\">\n",
       "  <thead>\n",
       "    <tr style=\"text-align: right;\">\n",
       "      <th></th>\n",
       "      <th>R/O</th>\n",
       "      <th>Year</th>\n",
       "      <th>Host_City</th>\n",
       "      <th>Country</th>\n",
       "      <th>Contestant</th>\n",
       "      <th>Song</th>\n",
       "      <th>Points</th>\n",
       "      <th>Place</th>\n",
       "    </tr>\n",
       "  </thead>\n",
       "  <tbody>\n",
       "    <tr>\n",
       "      <th>0</th>\n",
       "      <td>1</td>\n",
       "      <td>2019</td>\n",
       "      <td>Tel-Aviv</td>\n",
       "      <td>Malta</td>\n",
       "      <td>Michela</td>\n",
       "      <td>Chameleon</td>\n",
       "      <td>107</td>\n",
       "      <td>14th</td>\n",
       "    </tr>\n",
       "    <tr>\n",
       "      <th>1</th>\n",
       "      <td>2</td>\n",
       "      <td>2019</td>\n",
       "      <td>Tel-Aviv</td>\n",
       "      <td>Albania</td>\n",
       "      <td>Jonida Maliqi</td>\n",
       "      <td>Ktheju tokës</td>\n",
       "      <td>90</td>\n",
       "      <td>17th</td>\n",
       "    </tr>\n",
       "    <tr>\n",
       "      <th>2</th>\n",
       "      <td>3</td>\n",
       "      <td>2019</td>\n",
       "      <td>Tel-Aviv</td>\n",
       "      <td>Czech Republic</td>\n",
       "      <td>Lake Malawi</td>\n",
       "      <td>Friend of a Friend</td>\n",
       "      <td>157</td>\n",
       "      <td>11th</td>\n",
       "    </tr>\n",
       "    <tr>\n",
       "      <th>3</th>\n",
       "      <td>4</td>\n",
       "      <td>2019</td>\n",
       "      <td>Tel-Aviv</td>\n",
       "      <td>Germany</td>\n",
       "      <td>S!sters</td>\n",
       "      <td>Sister</td>\n",
       "      <td>24</td>\n",
       "      <td>25th</td>\n",
       "    </tr>\n",
       "    <tr>\n",
       "      <th>4</th>\n",
       "      <td>5</td>\n",
       "      <td>2019</td>\n",
       "      <td>Tel-Aviv</td>\n",
       "      <td>Russia</td>\n",
       "      <td>Sergey Lazarev</td>\n",
       "      <td>Scream</td>\n",
       "      <td>370</td>\n",
       "      <td>3rd</td>\n",
       "    </tr>\n",
       "  </tbody>\n",
       "</table>\n",
       "</div>"
      ],
      "text/plain": [
       "  R/O  Year Host_City         Country      Contestant                Song  \\\n",
       "0   1  2019  Tel-Aviv           Malta         Michela           Chameleon   \n",
       "1   2  2019  Tel-Aviv         Albania   Jonida Maliqi        Ktheju tokës   \n",
       "2   3  2019  Tel-Aviv  Czech Republic     Lake Malawi  Friend of a Friend   \n",
       "3   4  2019  Tel-Aviv         Germany         S!sters              Sister   \n",
       "4   5  2019  Tel-Aviv          Russia  Sergey Lazarev              Scream   \n",
       "\n",
       "  Points Place  \n",
       "0    107  14th  \n",
       "1     90  17th  \n",
       "2    157  11th  \n",
       "3     24  25th  \n",
       "4    370   3rd  "
      ]
     },
     "execution_count": 22,
     "metadata": {},
     "output_type": "execute_result"
    }
   ],
   "source": [
    "df_from_data = pd.DataFrame(data)\n",
    "df_from_data.head()"
   ]
  },
  {
   "cell_type": "markdown",
   "metadata": {},
   "source": [
    "## Put everything together"
   ]
  },
  {
   "cell_type": "markdown",
   "metadata": {},
   "source": [
    "### 1. Get all the URLs from 1956 until 2019"
   ]
  },
  {
   "cell_type": "code",
   "execution_count": 24,
   "metadata": {},
   "outputs": [],
   "source": [
    "def get_eurovision_urls():\n",
    "    urls_source = 'https://eurovision.tv/events'\n",
    "    res = requests.get(urls_source)\n",
    "    soup = BeautifulSoup(res.content, 'html.parser')\n",
    "    a_tags1 = soup.find_all('a', class_='text-blue-darkest')[2:18]\n",
    "    urls1 = [url['href']+'/grand-final' for url in a_tags1]\n",
    "    a_tags2 = soup.find_all('a', class_='text-blue-darkest')[18:]\n",
    "    urls2 = [url['href']+'/final' for url in a_tags2]\n",
    "    urls = urls1 + urls2\n",
    "    return urls"
   ]
  },
  {
   "cell_type": "code",
   "execution_count": 25,
   "metadata": {},
   "outputs": [
    {
     "data": {
      "text/plain": [
       "'https://eurovision.tv/event/tel-aviv-2019/grand-final'"
      ]
     },
     "execution_count": 25,
     "metadata": {},
     "output_type": "execute_result"
    }
   ],
   "source": [
    "urls = get_eurovision_urls()\n",
    "urls[0]"
   ]
  },
  {
   "cell_type": "markdown",
   "metadata": {},
   "source": [
    "### 2. A funtion that creates a DataFrame after scraping the URLs"
   ]
  },
  {
   "cell_type": "code",
   "execution_count": 28,
   "metadata": {},
   "outputs": [],
   "source": [
    "def scrape_eurovision(url):\n",
    "    res = requests.get(url)\n",
    "    soup = BeautifulSoup(res.content, 'html.parser')\n",
    "    table = soup.body.main.find_all('table', {'class': 'event-table'})[0]\n",
    "    rows = table.find_all('tr')\n",
    "    data = [create_row(row, url) for row in rows[1:]] # don't want to get the first row, that is the header\n",
    "    df_from_data = pd.DataFrame(data)\n",
    "    return df_from_data"
   ]
  },
  {
   "cell_type": "code",
   "execution_count": 29,
   "metadata": {},
   "outputs": [],
   "source": [
    "# test the function\n",
    "frame1 = scrape_eurovision(urls[0])"
   ]
  },
  {
   "cell_type": "markdown",
   "metadata": {},
   "source": [
    "### 3. Run the function for all the URLs"
   ]
  },
  {
   "cell_type": "code",
   "execution_count": 30,
   "metadata": {},
   "outputs": [],
   "source": [
    "frames = [scrape_eurovision(url) for url in urls]"
   ]
  },
  {
   "cell_type": "markdown",
   "metadata": {},
   "source": [
    "### 4. Concat all the DataFrames of the different years"
   ]
  },
  {
   "cell_type": "code",
   "execution_count": 31,
   "metadata": {},
   "outputs": [
    {
     "data": {
      "text/html": [
       "<div>\n",
       "<style scoped>\n",
       "    .dataframe tbody tr th:only-of-type {\n",
       "        vertical-align: middle;\n",
       "    }\n",
       "\n",
       "    .dataframe tbody tr th {\n",
       "        vertical-align: top;\n",
       "    }\n",
       "\n",
       "    .dataframe thead th {\n",
       "        text-align: right;\n",
       "    }\n",
       "</style>\n",
       "<table border=\"1\" class=\"dataframe\">\n",
       "  <thead>\n",
       "    <tr style=\"text-align: right;\">\n",
       "      <th></th>\n",
       "      <th>R/O</th>\n",
       "      <th>Year</th>\n",
       "      <th>Host_City</th>\n",
       "      <th>Country</th>\n",
       "      <th>Contestant</th>\n",
       "      <th>Song</th>\n",
       "      <th>Points</th>\n",
       "      <th>Place</th>\n",
       "    </tr>\n",
       "  </thead>\n",
       "  <tbody>\n",
       "    <tr>\n",
       "      <th>0</th>\n",
       "      <td>1</td>\n",
       "      <td>2019</td>\n",
       "      <td>Tel-Aviv</td>\n",
       "      <td>Malta</td>\n",
       "      <td>Michela</td>\n",
       "      <td>Chameleon</td>\n",
       "      <td>107</td>\n",
       "      <td>14th</td>\n",
       "    </tr>\n",
       "    <tr>\n",
       "      <th>1</th>\n",
       "      <td>2</td>\n",
       "      <td>2019</td>\n",
       "      <td>Tel-Aviv</td>\n",
       "      <td>Albania</td>\n",
       "      <td>Jonida Maliqi</td>\n",
       "      <td>Ktheju tokës</td>\n",
       "      <td>90</td>\n",
       "      <td>17th</td>\n",
       "    </tr>\n",
       "    <tr>\n",
       "      <th>2</th>\n",
       "      <td>3</td>\n",
       "      <td>2019</td>\n",
       "      <td>Tel-Aviv</td>\n",
       "      <td>Czech Republic</td>\n",
       "      <td>Lake Malawi</td>\n",
       "      <td>Friend of a Friend</td>\n",
       "      <td>157</td>\n",
       "      <td>11th</td>\n",
       "    </tr>\n",
       "    <tr>\n",
       "      <th>3</th>\n",
       "      <td>4</td>\n",
       "      <td>2019</td>\n",
       "      <td>Tel-Aviv</td>\n",
       "      <td>Germany</td>\n",
       "      <td>S!sters</td>\n",
       "      <td>Sister</td>\n",
       "      <td>24</td>\n",
       "      <td>25th</td>\n",
       "    </tr>\n",
       "    <tr>\n",
       "      <th>4</th>\n",
       "      <td>5</td>\n",
       "      <td>2019</td>\n",
       "      <td>Tel-Aviv</td>\n",
       "      <td>Russia</td>\n",
       "      <td>Sergey Lazarev</td>\n",
       "      <td>Scream</td>\n",
       "      <td>370</td>\n",
       "      <td>3rd</td>\n",
       "    </tr>\n",
       "  </tbody>\n",
       "</table>\n",
       "</div>"
      ],
      "text/plain": [
       "  R/O  Year Host_City         Country      Contestant                Song  \\\n",
       "0   1  2019  Tel-Aviv           Malta         Michela           Chameleon   \n",
       "1   2  2019  Tel-Aviv         Albania   Jonida Maliqi        Ktheju tokës   \n",
       "2   3  2019  Tel-Aviv  Czech Republic     Lake Malawi  Friend of a Friend   \n",
       "3   4  2019  Tel-Aviv         Germany         S!sters              Sister   \n",
       "4   5  2019  Tel-Aviv          Russia  Sergey Lazarev              Scream   \n",
       "\n",
       "  Points Place  \n",
       "0    107  14th  \n",
       "1     90  17th  \n",
       "2    157  11th  \n",
       "3     24  25th  \n",
       "4    370   3rd  "
      ]
     },
     "execution_count": 31,
     "metadata": {},
     "output_type": "execute_result"
    }
   ],
   "source": [
    "result = pd.concat(frames, ignore_index=True)\n",
    "result.head()"
   ]
  },
  {
   "cell_type": "code",
   "execution_count": 32,
   "metadata": {},
   "outputs": [
    {
     "data": {
      "text/html": [
       "<div>\n",
       "<style scoped>\n",
       "    .dataframe tbody tr th:only-of-type {\n",
       "        vertical-align: middle;\n",
       "    }\n",
       "\n",
       "    .dataframe tbody tr th {\n",
       "        vertical-align: top;\n",
       "    }\n",
       "\n",
       "    .dataframe thead th {\n",
       "        text-align: right;\n",
       "    }\n",
       "</style>\n",
       "<table border=\"1\" class=\"dataframe\">\n",
       "  <thead>\n",
       "    <tr style=\"text-align: right;\">\n",
       "      <th></th>\n",
       "      <th>R/O</th>\n",
       "      <th>Year</th>\n",
       "      <th>Host_City</th>\n",
       "      <th>Country</th>\n",
       "      <th>Contestant</th>\n",
       "      <th>Song</th>\n",
       "      <th>Points</th>\n",
       "      <th>Place</th>\n",
       "    </tr>\n",
       "  </thead>\n",
       "  <tbody>\n",
       "    <tr>\n",
       "      <th>1317</th>\n",
       "      <td>10</td>\n",
       "      <td>1956</td>\n",
       "      <td>Lugano</td>\n",
       "      <td>Belgium</td>\n",
       "      <td>Mony Marc</td>\n",
       "      <td>Le Plus Beau Jour De Ma Vie</td>\n",
       "      <td>—</td>\n",
       "      <td>2nd</td>\n",
       "    </tr>\n",
       "    <tr>\n",
       "      <th>1318</th>\n",
       "      <td>11</td>\n",
       "      <td>1956</td>\n",
       "      <td>Lugano</td>\n",
       "      <td>Germany</td>\n",
       "      <td>Freddy Quinn</td>\n",
       "      <td>So Geht Das Jede Nacht</td>\n",
       "      <td>—</td>\n",
       "      <td>2nd</td>\n",
       "    </tr>\n",
       "    <tr>\n",
       "      <th>1319</th>\n",
       "      <td>12</td>\n",
       "      <td>1956</td>\n",
       "      <td>Lugano</td>\n",
       "      <td>France</td>\n",
       "      <td>Dany Dauberson</td>\n",
       "      <td>Il Est Là</td>\n",
       "      <td>—</td>\n",
       "      <td>2nd</td>\n",
       "    </tr>\n",
       "    <tr>\n",
       "      <th>1320</th>\n",
       "      <td>13</td>\n",
       "      <td>1956</td>\n",
       "      <td>Lugano</td>\n",
       "      <td>Luxembourg</td>\n",
       "      <td>Michèle Arnaud</td>\n",
       "      <td>Les Amants De Minuit</td>\n",
       "      <td>—</td>\n",
       "      <td>2nd</td>\n",
       "    </tr>\n",
       "    <tr>\n",
       "      <th>1321</th>\n",
       "      <td>14</td>\n",
       "      <td>1956</td>\n",
       "      <td>Lugano</td>\n",
       "      <td>Italy</td>\n",
       "      <td>Tonina Torielli</td>\n",
       "      <td>Amami Se Vuoi</td>\n",
       "      <td>—</td>\n",
       "      <td>2nd</td>\n",
       "    </tr>\n",
       "  </tbody>\n",
       "</table>\n",
       "</div>"
      ],
      "text/plain": [
       "     R/O  Year Host_City     Country       Contestant  \\\n",
       "1317  10  1956    Lugano     Belgium        Mony Marc   \n",
       "1318  11  1956    Lugano     Germany     Freddy Quinn   \n",
       "1319  12  1956    Lugano      France   Dany Dauberson   \n",
       "1320  13  1956    Lugano  Luxembourg   Michèle Arnaud   \n",
       "1321  14  1956    Lugano       Italy  Tonina Torielli   \n",
       "\n",
       "                             Song Points Place  \n",
       "1317  Le Plus Beau Jour De Ma Vie      —   2nd  \n",
       "1318       So Geht Das Jede Nacht      —   2nd  \n",
       "1319                    Il Est Là      —   2nd  \n",
       "1320         Les Amants De Minuit      —   2nd  \n",
       "1321                Amami Se Vuoi      —   2nd  "
      ]
     },
     "execution_count": 32,
     "metadata": {},
     "output_type": "execute_result"
    }
   ],
   "source": [
    "result.tail()"
   ]
  },
  {
   "cell_type": "markdown",
   "metadata": {},
   "source": [
    "### 5. Save the final result as a CSV file"
   ]
  },
  {
   "cell_type": "code",
   "execution_count": 33,
   "metadata": {},
   "outputs": [
    {
     "data": {
      "text/html": [
       "<div>\n",
       "<style scoped>\n",
       "    .dataframe tbody tr th:only-of-type {\n",
       "        vertical-align: middle;\n",
       "    }\n",
       "\n",
       "    .dataframe tbody tr th {\n",
       "        vertical-align: top;\n",
       "    }\n",
       "\n",
       "    .dataframe thead th {\n",
       "        text-align: right;\n",
       "    }\n",
       "</style>\n",
       "<table border=\"1\" class=\"dataframe\">\n",
       "  <thead>\n",
       "    <tr style=\"text-align: right;\">\n",
       "      <th></th>\n",
       "      <th>R/O</th>\n",
       "      <th>Year</th>\n",
       "      <th>Host_City</th>\n",
       "      <th>Country</th>\n",
       "      <th>Contestant</th>\n",
       "      <th>Song</th>\n",
       "      <th>Points</th>\n",
       "      <th>Place</th>\n",
       "    </tr>\n",
       "  </thead>\n",
       "  <tbody>\n",
       "    <tr>\n",
       "      <th>0</th>\n",
       "      <td>1</td>\n",
       "      <td>2019</td>\n",
       "      <td>Tel-Aviv</td>\n",
       "      <td>Malta</td>\n",
       "      <td>Michela</td>\n",
       "      <td>Chameleon</td>\n",
       "      <td>107</td>\n",
       "      <td>14th</td>\n",
       "    </tr>\n",
       "    <tr>\n",
       "      <th>1</th>\n",
       "      <td>2</td>\n",
       "      <td>2019</td>\n",
       "      <td>Tel-Aviv</td>\n",
       "      <td>Albania</td>\n",
       "      <td>Jonida Maliqi</td>\n",
       "      <td>Ktheju tokës</td>\n",
       "      <td>90</td>\n",
       "      <td>17th</td>\n",
       "    </tr>\n",
       "    <tr>\n",
       "      <th>2</th>\n",
       "      <td>3</td>\n",
       "      <td>2019</td>\n",
       "      <td>Tel-Aviv</td>\n",
       "      <td>Czech Republic</td>\n",
       "      <td>Lake Malawi</td>\n",
       "      <td>Friend of a Friend</td>\n",
       "      <td>157</td>\n",
       "      <td>11th</td>\n",
       "    </tr>\n",
       "    <tr>\n",
       "      <th>3</th>\n",
       "      <td>4</td>\n",
       "      <td>2019</td>\n",
       "      <td>Tel-Aviv</td>\n",
       "      <td>Germany</td>\n",
       "      <td>S!sters</td>\n",
       "      <td>Sister</td>\n",
       "      <td>24</td>\n",
       "      <td>25th</td>\n",
       "    </tr>\n",
       "    <tr>\n",
       "      <th>4</th>\n",
       "      <td>5</td>\n",
       "      <td>2019</td>\n",
       "      <td>Tel-Aviv</td>\n",
       "      <td>Russia</td>\n",
       "      <td>Sergey Lazarev</td>\n",
       "      <td>Scream</td>\n",
       "      <td>370</td>\n",
       "      <td>3rd</td>\n",
       "    </tr>\n",
       "    <tr>\n",
       "      <th>5</th>\n",
       "      <td>6</td>\n",
       "      <td>2019</td>\n",
       "      <td>Tel-Aviv</td>\n",
       "      <td>Denmark</td>\n",
       "      <td>Leonora</td>\n",
       "      <td>Love Is Forever</td>\n",
       "      <td>120</td>\n",
       "      <td>12th</td>\n",
       "    </tr>\n",
       "    <tr>\n",
       "      <th>6</th>\n",
       "      <td>7</td>\n",
       "      <td>2019</td>\n",
       "      <td>Tel-Aviv</td>\n",
       "      <td>San Marino</td>\n",
       "      <td>Serhat</td>\n",
       "      <td>Say Na Na Na</td>\n",
       "      <td>77</td>\n",
       "      <td>19th</td>\n",
       "    </tr>\n",
       "    <tr>\n",
       "      <th>7</th>\n",
       "      <td>8</td>\n",
       "      <td>2019</td>\n",
       "      <td>Tel-Aviv</td>\n",
       "      <td>North Macedonia</td>\n",
       "      <td>Tamara Todevska</td>\n",
       "      <td>Proud</td>\n",
       "      <td>305</td>\n",
       "      <td>7th</td>\n",
       "    </tr>\n",
       "    <tr>\n",
       "      <th>8</th>\n",
       "      <td>9</td>\n",
       "      <td>2019</td>\n",
       "      <td>Tel-Aviv</td>\n",
       "      <td>Sweden</td>\n",
       "      <td>John Lundvik</td>\n",
       "      <td>Too Late For Love</td>\n",
       "      <td>334</td>\n",
       "      <td>5th</td>\n",
       "    </tr>\n",
       "    <tr>\n",
       "      <th>9</th>\n",
       "      <td>10</td>\n",
       "      <td>2019</td>\n",
       "      <td>Tel-Aviv</td>\n",
       "      <td>Slovenia</td>\n",
       "      <td>Zala Kralj &amp; Gašper Šantl</td>\n",
       "      <td>Sebi</td>\n",
       "      <td>105</td>\n",
       "      <td>15th</td>\n",
       "    </tr>\n",
       "  </tbody>\n",
       "</table>\n",
       "</div>"
      ],
      "text/plain": [
       "   R/O  Year Host_City          Country                 Contestant  \\\n",
       "0    1  2019  Tel-Aviv            Malta                    Michela   \n",
       "1    2  2019  Tel-Aviv          Albania              Jonida Maliqi   \n",
       "2    3  2019  Tel-Aviv   Czech Republic                Lake Malawi   \n",
       "3    4  2019  Tel-Aviv          Germany                    S!sters   \n",
       "4    5  2019  Tel-Aviv           Russia             Sergey Lazarev   \n",
       "5    6  2019  Tel-Aviv          Denmark                    Leonora   \n",
       "6    7  2019  Tel-Aviv       San Marino                     Serhat   \n",
       "7    8  2019  Tel-Aviv  North Macedonia            Tamara Todevska   \n",
       "8    9  2019  Tel-Aviv           Sweden               John Lundvik   \n",
       "9   10  2019  Tel-Aviv         Slovenia  Zala Kralj & Gašper Šantl   \n",
       "\n",
       "                 Song Points Place  \n",
       "0           Chameleon    107  14th  \n",
       "1        Ktheju tokës     90  17th  \n",
       "2  Friend of a Friend    157  11th  \n",
       "3              Sister     24  25th  \n",
       "4              Scream    370   3rd  \n",
       "5     Love Is Forever    120  12th  \n",
       "6        Say Na Na Na     77  19th  \n",
       "7               Proud    305   7th  \n",
       "8   Too Late For Love    334   5th  \n",
       "9                Sebi    105  15th  "
      ]
     },
     "execution_count": 33,
     "metadata": {},
     "output_type": "execute_result"
    }
   ],
   "source": [
    "result.to_csv('eurovision_per_year.csv', index=False)\n",
    "check = pd.read_csv('eurovision_per_year.csv')\n",
    "check.head(10)"
   ]
  },
  {
   "cell_type": "code",
   "execution_count": 34,
   "metadata": {},
   "outputs": [
    {
     "data": {
      "text/html": [
       "<div>\n",
       "<style scoped>\n",
       "    .dataframe tbody tr th:only-of-type {\n",
       "        vertical-align: middle;\n",
       "    }\n",
       "\n",
       "    .dataframe tbody tr th {\n",
       "        vertical-align: top;\n",
       "    }\n",
       "\n",
       "    .dataframe thead th {\n",
       "        text-align: right;\n",
       "    }\n",
       "</style>\n",
       "<table border=\"1\" class=\"dataframe\">\n",
       "  <thead>\n",
       "    <tr style=\"text-align: right;\">\n",
       "      <th></th>\n",
       "      <th>R/O</th>\n",
       "      <th>Year</th>\n",
       "      <th>Host_City</th>\n",
       "      <th>Country</th>\n",
       "      <th>Contestant</th>\n",
       "      <th>Song</th>\n",
       "      <th>Points</th>\n",
       "      <th>Place</th>\n",
       "    </tr>\n",
       "  </thead>\n",
       "  <tbody>\n",
       "    <tr>\n",
       "      <th>1312</th>\n",
       "      <td>5</td>\n",
       "      <td>1956</td>\n",
       "      <td>Lugano</td>\n",
       "      <td>France</td>\n",
       "      <td>Mathé Altéry</td>\n",
       "      <td>Le Temps Perdu</td>\n",
       "      <td>—</td>\n",
       "      <td>2nd</td>\n",
       "    </tr>\n",
       "    <tr>\n",
       "      <th>1313</th>\n",
       "      <td>6</td>\n",
       "      <td>1956</td>\n",
       "      <td>Lugano</td>\n",
       "      <td>Luxembourg</td>\n",
       "      <td>Michèle Arnaud</td>\n",
       "      <td>Ne Crois Pas</td>\n",
       "      <td>—</td>\n",
       "      <td>2nd</td>\n",
       "    </tr>\n",
       "    <tr>\n",
       "      <th>1314</th>\n",
       "      <td>7</td>\n",
       "      <td>1956</td>\n",
       "      <td>Lugano</td>\n",
       "      <td>Italy</td>\n",
       "      <td>Franca Raimondi</td>\n",
       "      <td>Aprite Le Finestre</td>\n",
       "      <td>—</td>\n",
       "      <td>2nd</td>\n",
       "    </tr>\n",
       "    <tr>\n",
       "      <th>1315</th>\n",
       "      <td>8</td>\n",
       "      <td>1956</td>\n",
       "      <td>Lugano</td>\n",
       "      <td>The Netherlands</td>\n",
       "      <td>Corry Brokken</td>\n",
       "      <td>Voorgoed Voorbij</td>\n",
       "      <td>—</td>\n",
       "      <td>2nd</td>\n",
       "    </tr>\n",
       "    <tr>\n",
       "      <th>1316</th>\n",
       "      <td>9</td>\n",
       "      <td>1956</td>\n",
       "      <td>Lugano</td>\n",
       "      <td>Switzerland</td>\n",
       "      <td>Lys Assia</td>\n",
       "      <td>Refrain</td>\n",
       "      <td>—</td>\n",
       "      <td>1st</td>\n",
       "    </tr>\n",
       "    <tr>\n",
       "      <th>1317</th>\n",
       "      <td>10</td>\n",
       "      <td>1956</td>\n",
       "      <td>Lugano</td>\n",
       "      <td>Belgium</td>\n",
       "      <td>Mony Marc</td>\n",
       "      <td>Le Plus Beau Jour De Ma Vie</td>\n",
       "      <td>—</td>\n",
       "      <td>2nd</td>\n",
       "    </tr>\n",
       "    <tr>\n",
       "      <th>1318</th>\n",
       "      <td>11</td>\n",
       "      <td>1956</td>\n",
       "      <td>Lugano</td>\n",
       "      <td>Germany</td>\n",
       "      <td>Freddy Quinn</td>\n",
       "      <td>So Geht Das Jede Nacht</td>\n",
       "      <td>—</td>\n",
       "      <td>2nd</td>\n",
       "    </tr>\n",
       "    <tr>\n",
       "      <th>1319</th>\n",
       "      <td>12</td>\n",
       "      <td>1956</td>\n",
       "      <td>Lugano</td>\n",
       "      <td>France</td>\n",
       "      <td>Dany Dauberson</td>\n",
       "      <td>Il Est Là</td>\n",
       "      <td>—</td>\n",
       "      <td>2nd</td>\n",
       "    </tr>\n",
       "    <tr>\n",
       "      <th>1320</th>\n",
       "      <td>13</td>\n",
       "      <td>1956</td>\n",
       "      <td>Lugano</td>\n",
       "      <td>Luxembourg</td>\n",
       "      <td>Michèle Arnaud</td>\n",
       "      <td>Les Amants De Minuit</td>\n",
       "      <td>—</td>\n",
       "      <td>2nd</td>\n",
       "    </tr>\n",
       "    <tr>\n",
       "      <th>1321</th>\n",
       "      <td>14</td>\n",
       "      <td>1956</td>\n",
       "      <td>Lugano</td>\n",
       "      <td>Italy</td>\n",
       "      <td>Tonina Torielli</td>\n",
       "      <td>Amami Se Vuoi</td>\n",
       "      <td>—</td>\n",
       "      <td>2nd</td>\n",
       "    </tr>\n",
       "  </tbody>\n",
       "</table>\n",
       "</div>"
      ],
      "text/plain": [
       "      R/O  Year Host_City          Country       Contestant  \\\n",
       "1312    5  1956    Lugano           France     Mathé Altéry   \n",
       "1313    6  1956    Lugano       Luxembourg   Michèle Arnaud   \n",
       "1314    7  1956    Lugano            Italy  Franca Raimondi   \n",
       "1315    8  1956    Lugano  The Netherlands    Corry Brokken   \n",
       "1316    9  1956    Lugano      Switzerland        Lys Assia   \n",
       "1317   10  1956    Lugano          Belgium        Mony Marc   \n",
       "1318   11  1956    Lugano          Germany     Freddy Quinn   \n",
       "1319   12  1956    Lugano           France   Dany Dauberson   \n",
       "1320   13  1956    Lugano       Luxembourg   Michèle Arnaud   \n",
       "1321   14  1956    Lugano            Italy  Tonina Torielli   \n",
       "\n",
       "                             Song Points Place  \n",
       "1312               Le Temps Perdu      —   2nd  \n",
       "1313                 Ne Crois Pas      —   2nd  \n",
       "1314           Aprite Le Finestre      —   2nd  \n",
       "1315             Voorgoed Voorbij      —   2nd  \n",
       "1316                      Refrain      —   1st  \n",
       "1317  Le Plus Beau Jour De Ma Vie      —   2nd  \n",
       "1318       So Geht Das Jede Nacht      —   2nd  \n",
       "1319                    Il Est Là      —   2nd  \n",
       "1320         Les Amants De Minuit      —   2nd  \n",
       "1321                Amami Se Vuoi      —   2nd  "
      ]
     },
     "execution_count": 34,
     "metadata": {},
     "output_type": "execute_result"
    }
   ],
   "source": [
    "check.tail(10)"
   ]
  },
  {
   "cell_type": "code",
   "execution_count": null,
   "metadata": {},
   "outputs": [],
   "source": []
  }
 ],
 "metadata": {
  "kernelspec": {
   "display_name": "Python 3",
   "language": "python",
   "name": "python3"
  },
  "language_info": {
   "codemirror_mode": {
    "name": "ipython",
    "version": 3
   },
   "file_extension": ".py",
   "mimetype": "text/x-python",
   "name": "python",
   "nbconvert_exporter": "python",
   "pygments_lexer": "ipython3",
   "version": "3.8.3"
  }
 },
 "nbformat": 4,
 "nbformat_minor": 4
}
